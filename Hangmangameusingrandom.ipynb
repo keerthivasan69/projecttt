{
  "nbformat": 4,
  "nbformat_minor": 0,
  "metadata": {
    "colab": {
      "provenance": [],
      "authorship_tag": "ABX9TyOYcPA0urpdyKOzBm5xwdpX",
      "include_colab_link": true
    },
    "kernelspec": {
      "name": "python3",
      "display_name": "Python 3"
    },
    "language_info": {
      "name": "python"
    }
  },
  "cells": [
    {
      "cell_type": "markdown",
      "metadata": {
        "id": "view-in-github",
        "colab_type": "text"
      },
      "source": [
        "<a href=\"https://colab.research.google.com/github/keerthivasan69/projecttt/blob/master/Hangmangameusingrandom.ipynb\" target=\"_parent\"><img src=\"https://colab.research.google.com/assets/colab-badge.svg\" alt=\"Open In Colab\"/></a>"
      ]
    },
    {
      "cell_type": "code",
      "execution_count": 1,
      "metadata": {
        "id": "Iub491fB8vnN"
      },
      "outputs": [],
      "source": [
        "import random"
      ]
    },
    {
      "cell_type": "code",
      "source": [
        "from collections import Counter"
      ],
      "metadata": {
        "id": "wA9Q6qAT_55U"
      },
      "execution_count": 3,
      "outputs": []
    },
    {
      "cell_type": "code",
      "source": [
        "somewords = '''iphone pixel samsunggalaxy vivo oppo nokia redmi'''"
      ],
      "metadata": {
        "id": "lFrInrQGAbVq"
      },
      "execution_count": 5,
      "outputs": []
    },
    {
      "cell_type": "markdown",
      "source": [],
      "metadata": {
        "id": "ffRtD3sVA-0R"
      }
    },
    {
      "cell_type": "code",
      "source": [
        "Someword=somewords.split(' ')"
      ],
      "metadata": {
        "id": "T8bnDuHRA_Jn"
      },
      "execution_count": 8,
      "outputs": []
    },
    {
      "cell_type": "code",
      "source": [
        "word=random.choice(somewords)"
      ],
      "metadata": {
        "id": "eaVxwc93BJzo"
      },
      "execution_count": 9,
      "outputs": []
    },
    {
      "cell_type": "code",
      "source": [
        "if __name__=='__main__' :\n",
        "  print('Guess the name, HINT : Its a phone brand')\n",
        "  for i in word:\n",
        "    print(' ', end=' ')\n",
        "    print()"
      ],
      "metadata": {
        "colab": {
          "base_uri": "https://localhost:8080/"
        },
        "id": "_gcc8ZPQBPrr",
        "outputId": "61e0a2f2-134f-4a2f-9a09-6306e92d8d9c"
      },
      "execution_count": 10,
      "outputs": [
        {
          "output_type": "stream",
          "name": "stdout",
          "text": [
            "Guess the name, HINT : Its a phone brand\n",
            "  \n"
          ]
        }
      ]
    },
    {
      "cell_type": "code",
      "source": [],
      "metadata": {
        "id": "-a8rUkDrEzAR"
      },
      "execution_count": null,
      "outputs": []
    },
    {
      "cell_type": "code",
      "source": [
        "playing=True\n",
        "letterguessed=''\n",
        "chances=len(word)+2\n",
        "correct=0\n",
        "flag=0\n",
        "try:\n",
        "  while (chances!=0) and flag==0:\n",
        "    print()\n",
        "    chances -= 1\n",
        "    try:\n",
        "      guess= str(input('Enter a letter to guess:'))\n",
        "    except:\n",
        "      print('Enter only a letter!')\n",
        "      continue\n",
        "    if not guess.isalpha():\n",
        "      print('Enter a letter')\n",
        "      continue\n",
        "    elif len(guess) > 1:\n",
        "      print('Enter a single letter')\n",
        "      continue\n",
        "    elif guess in letterguessed:\n",
        "      print('You have already guess the letter')\n",
        "      continue\n",
        "    if guess in word:\n",
        "      k = word.count(guess)\n",
        "      for _ in range(k):\n",
        "        letterGuessed += guess\n",
        "      for char in word:\n",
        "        if char in letterGuessed and (Counter(letterGuessed) != Counter(word)):\n",
        "          print(char, end=' ')\n",
        "          correct += 1\n",
        "        elif (Counter(letterGuessed) == Counter(word)):\n",
        "          # the game ends, even if chances remain\n",
        "          print(\"\\nThe word is: \", end='')\n",
        "          print(word)\n",
        "          flag = 1\n",
        "          print('Congratulations, You won!')\n",
        "          break  # To break out of the for loop\n",
        "          break  # To break out of the while loop\n",
        "    else:\n",
        "      print('_', end=' ')\n",
        "    if chances <= 0 and (Counter(letterGuessed) != Counter(word)):\n",
        "      print()\n",
        "      print('You lost! Try again..')\n",
        "      print('The word was {}'.format(word))\n",
        "\n",
        "except KeyboardInterrupt:\n",
        "  print()\n",
        "  print('Bye! Try again.')\n",
        "  exit()\n",
        "\n"
      ],
      "metadata": {
        "colab": {
          "base_uri": "https://localhost:8080/",
          "height": 341
        },
        "id": "WV_O27s4CNXo",
        "outputId": "7248c42b-2999-4c0b-cacd-1dc0b729963e"
      },
      "execution_count": 16,
      "outputs": [
        {
          "output_type": "stream",
          "name": "stdout",
          "text": [
            "\n",
            "Enter a letter to guess:x\n",
            "_ \n",
            "Enter a letter to guess:i\n",
            "_ \n",
            "Enter a letter to guess:l\n",
            "_ "
          ]
        },
        {
          "output_type": "error",
          "ename": "NameError",
          "evalue": "name 'letterGuessed' is not defined",
          "traceback": [
            "\u001b[0;31m---------------------------------------------------------------------------\u001b[0m",
            "\u001b[0;31mNameError\u001b[0m                                 Traceback (most recent call last)",
            "\u001b[0;32m<ipython-input-16-fb8a3c6cd5af>\u001b[0m in \u001b[0;36m<cell line: 6>\u001b[0;34m()\u001b[0m\n\u001b[1;32m     40\u001b[0m     \u001b[0;32melse\u001b[0m\u001b[0;34m:\u001b[0m\u001b[0;34m\u001b[0m\u001b[0;34m\u001b[0m\u001b[0m\n\u001b[1;32m     41\u001b[0m       \u001b[0mprint\u001b[0m\u001b[0;34m(\u001b[0m\u001b[0;34m'_'\u001b[0m\u001b[0;34m,\u001b[0m \u001b[0mend\u001b[0m\u001b[0;34m=\u001b[0m\u001b[0;34m' '\u001b[0m\u001b[0;34m)\u001b[0m\u001b[0;34m\u001b[0m\u001b[0;34m\u001b[0m\u001b[0m\n\u001b[0;32m---> 42\u001b[0;31m     \u001b[0;32mif\u001b[0m \u001b[0mchances\u001b[0m \u001b[0;34m<=\u001b[0m \u001b[0;36m0\u001b[0m \u001b[0;32mand\u001b[0m \u001b[0;34m(\u001b[0m\u001b[0mCounter\u001b[0m\u001b[0;34m(\u001b[0m\u001b[0mletterGuessed\u001b[0m\u001b[0;34m)\u001b[0m \u001b[0;34m!=\u001b[0m \u001b[0mCounter\u001b[0m\u001b[0;34m(\u001b[0m\u001b[0mword\u001b[0m\u001b[0;34m)\u001b[0m\u001b[0;34m)\u001b[0m\u001b[0;34m:\u001b[0m\u001b[0;34m\u001b[0m\u001b[0;34m\u001b[0m\u001b[0m\n\u001b[0m\u001b[1;32m     43\u001b[0m       \u001b[0mprint\u001b[0m\u001b[0;34m(\u001b[0m\u001b[0;34m)\u001b[0m\u001b[0;34m\u001b[0m\u001b[0;34m\u001b[0m\u001b[0m\n\u001b[1;32m     44\u001b[0m       \u001b[0mprint\u001b[0m\u001b[0;34m(\u001b[0m\u001b[0;34m'You lost! Try again..'\u001b[0m\u001b[0;34m)\u001b[0m\u001b[0;34m\u001b[0m\u001b[0;34m\u001b[0m\u001b[0m\n",
            "\u001b[0;31mNameError\u001b[0m: name 'letterGuessed' is not defined"
          ]
        }
      ]
    }
  ]
}